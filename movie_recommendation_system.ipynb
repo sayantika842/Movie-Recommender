{
 "cells": [
  {
   "cell_type": "code",
   "execution_count": 1,
   "id": "ed2363b0-221b-45b2-97db-c0a415463410",
   "metadata": {},
   "outputs": [],
   "source": [
    "import numpy as np\n",
    "import pandas as pd"
   ]
  },
  {
   "cell_type": "markdown",
   "id": "8e39f434-7fa8-4480-ad6e-d5336dd4eb33",
   "metadata": {},
   "source": [
    "# Data Loading\n",
    "### Dataset : https://github.com/dainantonio/Investigating-a-TMDB-5000-Movie-Dataset/blob/main/tmdb-movies.csv"
   ]
  },
  {
   "cell_type": "code",
   "execution_count": 3,
   "id": "87f00380-182c-4ba4-917e-7278fed1dfae",
   "metadata": {},
   "outputs": [],
   "source": [
    "movies=pd.read_csv(\"tmdb_5000_movies.csv\")"
   ]
  },
  {
   "cell_type": "code",
   "execution_count": 4,
   "id": "c19ba374-c633-4ff8-a1fd-62511e00b751",
   "metadata": {},
   "outputs": [
    {
     "data": {
      "text/html": [
       "<div>\n",
       "<style scoped>\n",
       "    .dataframe tbody tr th:only-of-type {\n",
       "        vertical-align: middle;\n",
       "    }\n",
       "\n",
       "    .dataframe tbody tr th {\n",
       "        vertical-align: top;\n",
       "    }\n",
       "\n",
       "    .dataframe thead th {\n",
       "        text-align: right;\n",
       "    }\n",
       "</style>\n",
       "<table border=\"1\" class=\"dataframe\">\n",
       "  <thead>\n",
       "    <tr style=\"text-align: right;\">\n",
       "      <th></th>\n",
       "      <th>id</th>\n",
       "      <th>imdb_id</th>\n",
       "      <th>popularity</th>\n",
       "      <th>budget</th>\n",
       "      <th>revenue</th>\n",
       "      <th>original_title</th>\n",
       "      <th>cast</th>\n",
       "      <th>homepage</th>\n",
       "      <th>director</th>\n",
       "      <th>tagline</th>\n",
       "      <th>...</th>\n",
       "      <th>overview</th>\n",
       "      <th>runtime</th>\n",
       "      <th>genres</th>\n",
       "      <th>production_companies</th>\n",
       "      <th>release_date</th>\n",
       "      <th>vote_count</th>\n",
       "      <th>vote_average</th>\n",
       "      <th>release_year</th>\n",
       "      <th>budget_adj</th>\n",
       "      <th>revenue_adj</th>\n",
       "    </tr>\n",
       "  </thead>\n",
       "  <tbody>\n",
       "    <tr>\n",
       "      <th>0</th>\n",
       "      <td>135397</td>\n",
       "      <td>tt0369610</td>\n",
       "      <td>32.985763</td>\n",
       "      <td>150000000</td>\n",
       "      <td>1513528810</td>\n",
       "      <td>Jurassic World</td>\n",
       "      <td>Chris Pratt|Bryce Dallas Howard|Irrfan Khan|Vi...</td>\n",
       "      <td>http://www.jurassicworld.com/</td>\n",
       "      <td>Colin Trevorrow</td>\n",
       "      <td>The park is open.</td>\n",
       "      <td>...</td>\n",
       "      <td>Twenty-two years after the events of Jurassic ...</td>\n",
       "      <td>124</td>\n",
       "      <td>Action|Adventure|Science Fiction|Thriller</td>\n",
       "      <td>Universal Studios|Amblin Entertainment|Legenda...</td>\n",
       "      <td>6/9/15</td>\n",
       "      <td>5562</td>\n",
       "      <td>6.5</td>\n",
       "      <td>2015</td>\n",
       "      <td>1.379999e+08</td>\n",
       "      <td>1.392446e+09</td>\n",
       "    </tr>\n",
       "    <tr>\n",
       "      <th>1</th>\n",
       "      <td>76341</td>\n",
       "      <td>tt1392190</td>\n",
       "      <td>28.419936</td>\n",
       "      <td>150000000</td>\n",
       "      <td>378436354</td>\n",
       "      <td>Mad Max: Fury Road</td>\n",
       "      <td>Tom Hardy|Charlize Theron|Hugh Keays-Byrne|Nic...</td>\n",
       "      <td>http://www.madmaxmovie.com/</td>\n",
       "      <td>George Miller</td>\n",
       "      <td>What a Lovely Day.</td>\n",
       "      <td>...</td>\n",
       "      <td>An apocalyptic story set in the furthest reach...</td>\n",
       "      <td>120</td>\n",
       "      <td>Action|Adventure|Science Fiction|Thriller</td>\n",
       "      <td>Village Roadshow Pictures|Kennedy Miller Produ...</td>\n",
       "      <td>5/13/15</td>\n",
       "      <td>6185</td>\n",
       "      <td>7.1</td>\n",
       "      <td>2015</td>\n",
       "      <td>1.379999e+08</td>\n",
       "      <td>3.481613e+08</td>\n",
       "    </tr>\n",
       "  </tbody>\n",
       "</table>\n",
       "<p>2 rows × 21 columns</p>\n",
       "</div>"
      ],
      "text/plain": [
       "       id    imdb_id  popularity     budget     revenue      original_title  \\\n",
       "0  135397  tt0369610   32.985763  150000000  1513528810      Jurassic World   \n",
       "1   76341  tt1392190   28.419936  150000000   378436354  Mad Max: Fury Road   \n",
       "\n",
       "                                                cast  \\\n",
       "0  Chris Pratt|Bryce Dallas Howard|Irrfan Khan|Vi...   \n",
       "1  Tom Hardy|Charlize Theron|Hugh Keays-Byrne|Nic...   \n",
       "\n",
       "                        homepage         director             tagline  ...  \\\n",
       "0  http://www.jurassicworld.com/  Colin Trevorrow   The park is open.  ...   \n",
       "1    http://www.madmaxmovie.com/    George Miller  What a Lovely Day.  ...   \n",
       "\n",
       "                                            overview runtime  \\\n",
       "0  Twenty-two years after the events of Jurassic ...     124   \n",
       "1  An apocalyptic story set in the furthest reach...     120   \n",
       "\n",
       "                                      genres  \\\n",
       "0  Action|Adventure|Science Fiction|Thriller   \n",
       "1  Action|Adventure|Science Fiction|Thriller   \n",
       "\n",
       "                                production_companies release_date vote_count  \\\n",
       "0  Universal Studios|Amblin Entertainment|Legenda...       6/9/15       5562   \n",
       "1  Village Roadshow Pictures|Kennedy Miller Produ...      5/13/15       6185   \n",
       "\n",
       "   vote_average  release_year    budget_adj   revenue_adj  \n",
       "0           6.5          2015  1.379999e+08  1.392446e+09  \n",
       "1           7.1          2015  1.379999e+08  3.481613e+08  \n",
       "\n",
       "[2 rows x 21 columns]"
      ]
     },
     "execution_count": 4,
     "metadata": {},
     "output_type": "execute_result"
    }
   ],
   "source": [
    "movies.head(2)"
   ]
  },
  {
   "cell_type": "code",
   "execution_count": 5,
   "id": "ab450337-f080-4326-8f61-acc8d0979c81",
   "metadata": {},
   "outputs": [
    {
     "name": "stdout",
     "output_type": "stream",
     "text": [
      "Index(['id', 'imdb_id', 'popularity', 'budget', 'revenue', 'original_title',\n",
      "       'cast', 'homepage', 'director', 'tagline', 'keywords', 'overview',\n",
      "       'runtime', 'genres', 'production_companies', 'release_date',\n",
      "       'vote_count', 'vote_average', 'release_year', 'budget_adj',\n",
      "       'revenue_adj'],\n",
      "      dtype='object')\n"
     ]
    }
   ],
   "source": [
    "print(movies.columns)"
   ]
  },
  {
   "cell_type": "code",
   "execution_count": 6,
   "id": "879ad7f1-abae-4a6a-8403-551dcb8d826b",
   "metadata": {},
   "outputs": [
    {
     "data": {
      "text/plain": [
       "(10866, 21)"
      ]
     },
     "execution_count": 6,
     "metadata": {},
     "output_type": "execute_result"
    }
   ],
   "source": [
    "movies.shape"
   ]
  },
  {
   "cell_type": "code",
   "execution_count": 7,
   "id": "54e654f4-7de9-4c72-94c3-c403af943f26",
   "metadata": {},
   "outputs": [
    {
     "data": {
      "text/plain": [
       "\"Chris Pratt|Bryce Dallas Howard|Irrfan Khan|Vincent D'Onofrio|Nick Robinson\""
      ]
     },
     "execution_count": 7,
     "metadata": {},
     "output_type": "execute_result"
    }
   ],
   "source": [
    "movies.iloc[0]['cast']"
   ]
  },
  {
   "cell_type": "markdown",
   "id": "badb5556-7d55-4349-90b1-9b7c91261ceb",
   "metadata": {},
   "source": [
    "# Data Preprocessing"
   ]
  },
  {
   "cell_type": "markdown",
   "id": "d38699c7-8ce9-4827-8a22-a8b53621e338",
   "metadata": {},
   "source": [
    "##### dropping irrelevant columns"
   ]
  },
  {
   "cell_type": "code",
   "execution_count": 10,
   "id": "7549946e-250b-4454-b046-62f2571eb94a",
   "metadata": {},
   "outputs": [],
   "source": [
    "movies = movies[['id', 'imdb_id', 'popularity', 'original_title', 'cast', 'director', 'tagline', 'keywords', 'overview',\n",
    "       'runtime', 'genres', 'release_date',\n",
    "       'vote_count', 'vote_average', 'release_year']]"
   ]
  },
  {
   "cell_type": "code",
   "execution_count": 11,
   "id": "b2581866-ab83-467e-9dc1-8985c13a9909",
   "metadata": {},
   "outputs": [
    {
     "data": {
      "text/html": [
       "<div>\n",
       "<style scoped>\n",
       "    .dataframe tbody tr th:only-of-type {\n",
       "        vertical-align: middle;\n",
       "    }\n",
       "\n",
       "    .dataframe tbody tr th {\n",
       "        vertical-align: top;\n",
       "    }\n",
       "\n",
       "    .dataframe thead th {\n",
       "        text-align: right;\n",
       "    }\n",
       "</style>\n",
       "<table border=\"1\" class=\"dataframe\">\n",
       "  <thead>\n",
       "    <tr style=\"text-align: right;\">\n",
       "      <th></th>\n",
       "      <th>id</th>\n",
       "      <th>imdb_id</th>\n",
       "      <th>popularity</th>\n",
       "      <th>original_title</th>\n",
       "      <th>cast</th>\n",
       "      <th>director</th>\n",
       "      <th>tagline</th>\n",
       "      <th>keywords</th>\n",
       "      <th>overview</th>\n",
       "      <th>runtime</th>\n",
       "      <th>genres</th>\n",
       "      <th>release_date</th>\n",
       "      <th>vote_count</th>\n",
       "      <th>vote_average</th>\n",
       "      <th>release_year</th>\n",
       "    </tr>\n",
       "  </thead>\n",
       "  <tbody>\n",
       "    <tr>\n",
       "      <th>0</th>\n",
       "      <td>135397</td>\n",
       "      <td>tt0369610</td>\n",
       "      <td>32.985763</td>\n",
       "      <td>Jurassic World</td>\n",
       "      <td>Chris Pratt|Bryce Dallas Howard|Irrfan Khan|Vi...</td>\n",
       "      <td>Colin Trevorrow</td>\n",
       "      <td>The park is open.</td>\n",
       "      <td>monster|dna|tyrannosaurus rex|velociraptor|island</td>\n",
       "      <td>Twenty-two years after the events of Jurassic ...</td>\n",
       "      <td>124</td>\n",
       "      <td>Action|Adventure|Science Fiction|Thriller</td>\n",
       "      <td>6/9/15</td>\n",
       "      <td>5562</td>\n",
       "      <td>6.5</td>\n",
       "      <td>2015</td>\n",
       "    </tr>\n",
       "    <tr>\n",
       "      <th>1</th>\n",
       "      <td>76341</td>\n",
       "      <td>tt1392190</td>\n",
       "      <td>28.419936</td>\n",
       "      <td>Mad Max: Fury Road</td>\n",
       "      <td>Tom Hardy|Charlize Theron|Hugh Keays-Byrne|Nic...</td>\n",
       "      <td>George Miller</td>\n",
       "      <td>What a Lovely Day.</td>\n",
       "      <td>future|chase|post-apocalyptic|dystopia|australia</td>\n",
       "      <td>An apocalyptic story set in the furthest reach...</td>\n",
       "      <td>120</td>\n",
       "      <td>Action|Adventure|Science Fiction|Thriller</td>\n",
       "      <td>5/13/15</td>\n",
       "      <td>6185</td>\n",
       "      <td>7.1</td>\n",
       "      <td>2015</td>\n",
       "    </tr>\n",
       "  </tbody>\n",
       "</table>\n",
       "</div>"
      ],
      "text/plain": [
       "       id    imdb_id  popularity      original_title  \\\n",
       "0  135397  tt0369610   32.985763      Jurassic World   \n",
       "1   76341  tt1392190   28.419936  Mad Max: Fury Road   \n",
       "\n",
       "                                                cast         director  \\\n",
       "0  Chris Pratt|Bryce Dallas Howard|Irrfan Khan|Vi...  Colin Trevorrow   \n",
       "1  Tom Hardy|Charlize Theron|Hugh Keays-Byrne|Nic...    George Miller   \n",
       "\n",
       "              tagline                                           keywords  \\\n",
       "0   The park is open.  monster|dna|tyrannosaurus rex|velociraptor|island   \n",
       "1  What a Lovely Day.   future|chase|post-apocalyptic|dystopia|australia   \n",
       "\n",
       "                                            overview  runtime  \\\n",
       "0  Twenty-two years after the events of Jurassic ...      124   \n",
       "1  An apocalyptic story set in the furthest reach...      120   \n",
       "\n",
       "                                      genres release_date  vote_count  \\\n",
       "0  Action|Adventure|Science Fiction|Thriller       6/9/15        5562   \n",
       "1  Action|Adventure|Science Fiction|Thriller      5/13/15        6185   \n",
       "\n",
       "   vote_average  release_year  \n",
       "0           6.5          2015  \n",
       "1           7.1          2015  "
      ]
     },
     "execution_count": 11,
     "metadata": {},
     "output_type": "execute_result"
    }
   ],
   "source": [
    "movies.head(2)"
   ]
  },
  {
   "cell_type": "markdown",
   "id": "113797e4-f5bd-47bb-ae95-7c924b9cb939",
   "metadata": {},
   "source": [
    "##### find missing values"
   ]
  },
  {
   "cell_type": "code",
   "execution_count": 13,
   "id": "66921cc8-8bed-4111-8c62-38d210825978",
   "metadata": {},
   "outputs": [
    {
     "data": {
      "text/plain": [
       "id                   0\n",
       "imdb_id             10\n",
       "popularity           0\n",
       "original_title       0\n",
       "cast                76\n",
       "director            44\n",
       "tagline           2824\n",
       "keywords          1493\n",
       "overview             4\n",
       "runtime              0\n",
       "genres              23\n",
       "release_date         0\n",
       "vote_count           0\n",
       "vote_average         0\n",
       "release_year         0\n",
       "dtype: int64"
      ]
     },
     "execution_count": 13,
     "metadata": {},
     "output_type": "execute_result"
    }
   ],
   "source": [
    "movies.isnull().sum()"
   ]
  },
  {
   "cell_type": "code",
   "execution_count": 14,
   "id": "df2804e8-137e-4bad-894a-75db6fcbb232",
   "metadata": {},
   "outputs": [],
   "source": [
    "movies.fillna(0, inplace=True)"
   ]
  },
  {
   "cell_type": "markdown",
   "id": "d456bc72-c4f8-4b6c-89bb-d21cc9149c47",
   "metadata": {},
   "source": [
    "##### check for duplicates and drop it"
   ]
  },
  {
   "cell_type": "code",
   "execution_count": 16,
   "id": "8e712d9d-30c5-4a5a-b652-b41838ae675e",
   "metadata": {},
   "outputs": [
    {
     "data": {
      "text/plain": [
       "1"
      ]
     },
     "execution_count": 16,
     "metadata": {},
     "output_type": "execute_result"
    }
   ],
   "source": [
    "movies.duplicated().sum()"
   ]
  },
  {
   "cell_type": "code",
   "execution_count": 17,
   "id": "19d22027-d614-46ec-a361-9ff9be2a0afb",
   "metadata": {},
   "outputs": [],
   "source": [
    "movies.drop_duplicates(inplace=True)"
   ]
  },
  {
   "cell_type": "markdown",
   "id": "f80dd244-06c7-4a29-ba53-c87a96133d67",
   "metadata": {},
   "source": [
    "##### filtering from cast, keywords, genres "
   ]
  },
  {
   "cell_type": "code",
   "execution_count": 19,
   "id": "82eed502-314c-49b2-a848-3c7ada908358",
   "metadata": {},
   "outputs": [],
   "source": [
    "def filter(txt):\n",
    "    if(txt!=0):\n",
    "        return txt.split('|')\n",
    "    return []"
   ]
  },
  {
   "cell_type": "code",
   "execution_count": 20,
   "id": "9fda2ddd-4912-49ff-a007-3ddb3e6cda20",
   "metadata": {},
   "outputs": [],
   "source": [
    "movies['cast'] = movies['cast'].apply(filter)\n",
    "movies['keywords'] = movies['keywords'].apply(filter)\n",
    "movies['genres'] = movies['genres'].apply(filter)\n"
   ]
  },
  {
   "cell_type": "code",
   "execution_count": 21,
   "id": "04529d84-aca1-4dd3-9462-b5fb40c6c9db",
   "metadata": {},
   "outputs": [
    {
     "data": {
      "text/html": [
       "<div>\n",
       "<style scoped>\n",
       "    .dataframe tbody tr th:only-of-type {\n",
       "        vertical-align: middle;\n",
       "    }\n",
       "\n",
       "    .dataframe tbody tr th {\n",
       "        vertical-align: top;\n",
       "    }\n",
       "\n",
       "    .dataframe thead th {\n",
       "        text-align: right;\n",
       "    }\n",
       "</style>\n",
       "<table border=\"1\" class=\"dataframe\">\n",
       "  <thead>\n",
       "    <tr style=\"text-align: right;\">\n",
       "      <th></th>\n",
       "      <th>id</th>\n",
       "      <th>imdb_id</th>\n",
       "      <th>popularity</th>\n",
       "      <th>original_title</th>\n",
       "      <th>cast</th>\n",
       "      <th>director</th>\n",
       "      <th>tagline</th>\n",
       "      <th>keywords</th>\n",
       "      <th>overview</th>\n",
       "      <th>runtime</th>\n",
       "      <th>genres</th>\n",
       "      <th>release_date</th>\n",
       "      <th>vote_count</th>\n",
       "      <th>vote_average</th>\n",
       "      <th>release_year</th>\n",
       "    </tr>\n",
       "  </thead>\n",
       "  <tbody>\n",
       "    <tr>\n",
       "      <th>0</th>\n",
       "      <td>135397</td>\n",
       "      <td>tt0369610</td>\n",
       "      <td>32.985763</td>\n",
       "      <td>Jurassic World</td>\n",
       "      <td>[Chris Pratt, Bryce Dallas Howard, Irrfan Khan...</td>\n",
       "      <td>Colin Trevorrow</td>\n",
       "      <td>The park is open.</td>\n",
       "      <td>[monster, dna, tyrannosaurus rex, velociraptor...</td>\n",
       "      <td>Twenty-two years after the events of Jurassic ...</td>\n",
       "      <td>124</td>\n",
       "      <td>[Action, Adventure, Science Fiction, Thriller]</td>\n",
       "      <td>6/9/15</td>\n",
       "      <td>5562</td>\n",
       "      <td>6.5</td>\n",
       "      <td>2015</td>\n",
       "    </tr>\n",
       "  </tbody>\n",
       "</table>\n",
       "</div>"
      ],
      "text/plain": [
       "       id    imdb_id  popularity  original_title  \\\n",
       "0  135397  tt0369610   32.985763  Jurassic World   \n",
       "\n",
       "                                                cast         director  \\\n",
       "0  [Chris Pratt, Bryce Dallas Howard, Irrfan Khan...  Colin Trevorrow   \n",
       "\n",
       "             tagline                                           keywords  \\\n",
       "0  The park is open.  [monster, dna, tyrannosaurus rex, velociraptor...   \n",
       "\n",
       "                                            overview  runtime  \\\n",
       "0  Twenty-two years after the events of Jurassic ...      124   \n",
       "\n",
       "                                           genres release_date  vote_count  \\\n",
       "0  [Action, Adventure, Science Fiction, Thriller]       6/9/15        5562   \n",
       "\n",
       "   vote_average  release_year  \n",
       "0           6.5          2015  "
      ]
     },
     "execution_count": 21,
     "metadata": {},
     "output_type": "execute_result"
    }
   ],
   "source": [
    "movies.head(1)"
   ]
  },
  {
   "cell_type": "markdown",
   "id": "46b02128-0e08-4438-9a27-9008ee3b9724",
   "metadata": {},
   "source": [
    "##### concatenate director, cast names"
   ]
  },
  {
   "cell_type": "code",
   "execution_count": 23,
   "id": "f6f388b2-ed64-4ace-8b1a-5f457cb18299",
   "metadata": {},
   "outputs": [],
   "source": [
    "movies['dir_cast'] = movies.apply(lambda m: [m['director']] + m['cast'], axis=1)"
   ]
  },
  {
   "cell_type": "code",
   "execution_count": 24,
   "id": "1554cae3-248e-4570-91d5-67513568d537",
   "metadata": {},
   "outputs": [],
   "source": [
    "movies = movies[['id','imdb_id', 'popularity', 'original_title', 'tagline',\n",
    "       'keywords', 'overview', 'runtime', 'genres', 'release_date',\n",
    "       'vote_count', 'vote_average', 'release_year', 'dir_cast']]"
   ]
  },
  {
   "cell_type": "code",
   "execution_count": 25,
   "id": "1dbf81f4-df98-4fb9-a288-f445558c6863",
   "metadata": {},
   "outputs": [
    {
     "data": {
      "text/html": [
       "<div>\n",
       "<style scoped>\n",
       "    .dataframe tbody tr th:only-of-type {\n",
       "        vertical-align: middle;\n",
       "    }\n",
       "\n",
       "    .dataframe tbody tr th {\n",
       "        vertical-align: top;\n",
       "    }\n",
       "\n",
       "    .dataframe thead th {\n",
       "        text-align: right;\n",
       "    }\n",
       "</style>\n",
       "<table border=\"1\" class=\"dataframe\">\n",
       "  <thead>\n",
       "    <tr style=\"text-align: right;\">\n",
       "      <th></th>\n",
       "      <th>id</th>\n",
       "      <th>imdb_id</th>\n",
       "      <th>popularity</th>\n",
       "      <th>original_title</th>\n",
       "      <th>tagline</th>\n",
       "      <th>keywords</th>\n",
       "      <th>overview</th>\n",
       "      <th>runtime</th>\n",
       "      <th>genres</th>\n",
       "      <th>release_date</th>\n",
       "      <th>vote_count</th>\n",
       "      <th>vote_average</th>\n",
       "      <th>release_year</th>\n",
       "      <th>dir_cast</th>\n",
       "    </tr>\n",
       "  </thead>\n",
       "  <tbody>\n",
       "    <tr>\n",
       "      <th>0</th>\n",
       "      <td>135397</td>\n",
       "      <td>tt0369610</td>\n",
       "      <td>32.985763</td>\n",
       "      <td>Jurassic World</td>\n",
       "      <td>The park is open.</td>\n",
       "      <td>[monster, dna, tyrannosaurus rex, velociraptor...</td>\n",
       "      <td>Twenty-two years after the events of Jurassic ...</td>\n",
       "      <td>124</td>\n",
       "      <td>[Action, Adventure, Science Fiction, Thriller]</td>\n",
       "      <td>6/9/15</td>\n",
       "      <td>5562</td>\n",
       "      <td>6.5</td>\n",
       "      <td>2015</td>\n",
       "      <td>[Colin Trevorrow, Chris Pratt, Bryce Dallas Ho...</td>\n",
       "    </tr>\n",
       "    <tr>\n",
       "      <th>1</th>\n",
       "      <td>76341</td>\n",
       "      <td>tt1392190</td>\n",
       "      <td>28.419936</td>\n",
       "      <td>Mad Max: Fury Road</td>\n",
       "      <td>What a Lovely Day.</td>\n",
       "      <td>[future, chase, post-apocalyptic, dystopia, au...</td>\n",
       "      <td>An apocalyptic story set in the furthest reach...</td>\n",
       "      <td>120</td>\n",
       "      <td>[Action, Adventure, Science Fiction, Thriller]</td>\n",
       "      <td>5/13/15</td>\n",
       "      <td>6185</td>\n",
       "      <td>7.1</td>\n",
       "      <td>2015</td>\n",
       "      <td>[George Miller, Tom Hardy, Charlize Theron, Hu...</td>\n",
       "    </tr>\n",
       "  </tbody>\n",
       "</table>\n",
       "</div>"
      ],
      "text/plain": [
       "       id    imdb_id  popularity      original_title             tagline  \\\n",
       "0  135397  tt0369610   32.985763      Jurassic World   The park is open.   \n",
       "1   76341  tt1392190   28.419936  Mad Max: Fury Road  What a Lovely Day.   \n",
       "\n",
       "                                            keywords  \\\n",
       "0  [monster, dna, tyrannosaurus rex, velociraptor...   \n",
       "1  [future, chase, post-apocalyptic, dystopia, au...   \n",
       "\n",
       "                                            overview  runtime  \\\n",
       "0  Twenty-two years after the events of Jurassic ...      124   \n",
       "1  An apocalyptic story set in the furthest reach...      120   \n",
       "\n",
       "                                           genres release_date  vote_count  \\\n",
       "0  [Action, Adventure, Science Fiction, Thriller]       6/9/15        5562   \n",
       "1  [Action, Adventure, Science Fiction, Thriller]      5/13/15        6185   \n",
       "\n",
       "   vote_average  release_year  \\\n",
       "0           6.5          2015   \n",
       "1           7.1          2015   \n",
       "\n",
       "                                            dir_cast  \n",
       "0  [Colin Trevorrow, Chris Pratt, Bryce Dallas Ho...  \n",
       "1  [George Miller, Tom Hardy, Charlize Theron, Hu...  "
      ]
     },
     "execution_count": 25,
     "metadata": {},
     "output_type": "execute_result"
    }
   ],
   "source": [
    "movies.head(2)"
   ]
  },
  {
   "cell_type": "code",
   "execution_count": 26,
   "id": "e785d0b8-7988-42f9-976d-53085088e635",
   "metadata": {},
   "outputs": [],
   "source": [
    "def filter2(l):\n",
    "    res=[]\n",
    "    for name in l:\n",
    "        if name!=0:\n",
    "            res.append(name.replace(\" \",\"\"))\n",
    "    return res"
   ]
  },
  {
   "cell_type": "code",
   "execution_count": 27,
   "id": "b4234fb5-4f96-4938-844b-25d6f85cac58",
   "metadata": {},
   "outputs": [],
   "source": [
    "movies['dir_cast']=movies['dir_cast'].apply(filter2)"
   ]
  },
  {
   "cell_type": "markdown",
   "id": "497c2f1c-5a55-4495-98ee-cdda87277be5",
   "metadata": {},
   "source": [
    "##### filter more keywords from overview, tagline"
   ]
  },
  {
   "cell_type": "code",
   "execution_count": 29,
   "id": "a697cea2-389d-413d-bdd5-607680343496",
   "metadata": {},
   "outputs": [],
   "source": [
    "def filter3(txt):\n",
    "    if txt!=0:\n",
    "        return txt.split()\n",
    "    else:\n",
    "        return []"
   ]
  },
  {
   "cell_type": "code",
   "execution_count": 30,
   "id": "b6f4bd26-c026-46c9-b520-2ef21dd420d6",
   "metadata": {},
   "outputs": [],
   "source": [
    "movies['overview'] = movies['overview'].apply(filter3)\n",
    "movies['tagline'] = movies['tagline'].apply(filter3)\n",
    "movies['keywords'] = movies['keywords'].apply(filter2)"
   ]
  },
  {
   "cell_type": "code",
   "execution_count": 31,
   "id": "2f7c9805-cb83-4265-b27f-9d060bcb0943",
   "metadata": {},
   "outputs": [],
   "source": [
    "movies['keywords'] = movies['keywords'].apply(filter2)"
   ]
  },
  {
   "cell_type": "code",
   "execution_count": 32,
   "id": "61c433f7-7a37-49bf-89e5-9fb89db1170f",
   "metadata": {},
   "outputs": [
    {
     "data": {
      "text/html": [
       "<div>\n",
       "<style scoped>\n",
       "    .dataframe tbody tr th:only-of-type {\n",
       "        vertical-align: middle;\n",
       "    }\n",
       "\n",
       "    .dataframe tbody tr th {\n",
       "        vertical-align: top;\n",
       "    }\n",
       "\n",
       "    .dataframe thead th {\n",
       "        text-align: right;\n",
       "    }\n",
       "</style>\n",
       "<table border=\"1\" class=\"dataframe\">\n",
       "  <thead>\n",
       "    <tr style=\"text-align: right;\">\n",
       "      <th></th>\n",
       "      <th>id</th>\n",
       "      <th>imdb_id</th>\n",
       "      <th>popularity</th>\n",
       "      <th>original_title</th>\n",
       "      <th>tagline</th>\n",
       "      <th>keywords</th>\n",
       "      <th>overview</th>\n",
       "      <th>runtime</th>\n",
       "      <th>genres</th>\n",
       "      <th>release_date</th>\n",
       "      <th>vote_count</th>\n",
       "      <th>vote_average</th>\n",
       "      <th>release_year</th>\n",
       "      <th>dir_cast</th>\n",
       "    </tr>\n",
       "  </thead>\n",
       "  <tbody>\n",
       "    <tr>\n",
       "      <th>0</th>\n",
       "      <td>135397</td>\n",
       "      <td>tt0369610</td>\n",
       "      <td>32.985763</td>\n",
       "      <td>Jurassic World</td>\n",
       "      <td>[The, park, is, open.]</td>\n",
       "      <td>[monster, dna, tyrannosaurusrex, velociraptor,...</td>\n",
       "      <td>[Twenty-two, years, after, the, events, of, Ju...</td>\n",
       "      <td>124</td>\n",
       "      <td>[Action, Adventure, Science Fiction, Thriller]</td>\n",
       "      <td>6/9/15</td>\n",
       "      <td>5562</td>\n",
       "      <td>6.5</td>\n",
       "      <td>2015</td>\n",
       "      <td>[ColinTrevorrow, ChrisPratt, BryceDallasHoward...</td>\n",
       "    </tr>\n",
       "    <tr>\n",
       "      <th>1</th>\n",
       "      <td>76341</td>\n",
       "      <td>tt1392190</td>\n",
       "      <td>28.419936</td>\n",
       "      <td>Mad Max: Fury Road</td>\n",
       "      <td>[What, a, Lovely, Day.]</td>\n",
       "      <td>[future, chase, post-apocalyptic, dystopia, au...</td>\n",
       "      <td>[An, apocalyptic, story, set, in, the, furthes...</td>\n",
       "      <td>120</td>\n",
       "      <td>[Action, Adventure, Science Fiction, Thriller]</td>\n",
       "      <td>5/13/15</td>\n",
       "      <td>6185</td>\n",
       "      <td>7.1</td>\n",
       "      <td>2015</td>\n",
       "      <td>[GeorgeMiller, TomHardy, CharlizeTheron, HughK...</td>\n",
       "    </tr>\n",
       "  </tbody>\n",
       "</table>\n",
       "</div>"
      ],
      "text/plain": [
       "       id    imdb_id  popularity      original_title                  tagline  \\\n",
       "0  135397  tt0369610   32.985763      Jurassic World   [The, park, is, open.]   \n",
       "1   76341  tt1392190   28.419936  Mad Max: Fury Road  [What, a, Lovely, Day.]   \n",
       "\n",
       "                                            keywords  \\\n",
       "0  [monster, dna, tyrannosaurusrex, velociraptor,...   \n",
       "1  [future, chase, post-apocalyptic, dystopia, au...   \n",
       "\n",
       "                                            overview  runtime  \\\n",
       "0  [Twenty-two, years, after, the, events, of, Ju...      124   \n",
       "1  [An, apocalyptic, story, set, in, the, furthes...      120   \n",
       "\n",
       "                                           genres release_date  vote_count  \\\n",
       "0  [Action, Adventure, Science Fiction, Thriller]       6/9/15        5562   \n",
       "1  [Action, Adventure, Science Fiction, Thriller]      5/13/15        6185   \n",
       "\n",
       "   vote_average  release_year  \\\n",
       "0           6.5          2015   \n",
       "1           7.1          2015   \n",
       "\n",
       "                                            dir_cast  \n",
       "0  [ColinTrevorrow, ChrisPratt, BryceDallasHoward...  \n",
       "1  [GeorgeMiller, TomHardy, CharlizeTheron, HughK...  "
      ]
     },
     "execution_count": 32,
     "metadata": {},
     "output_type": "execute_result"
    }
   ],
   "source": [
    "movies.head(2)"
   ]
  },
  {
   "cell_type": "markdown",
   "id": "a953d161-c69d-4cf0-b61a-26c5e21388bf",
   "metadata": {},
   "source": [
    "##### make new column : tags"
   ]
  },
  {
   "cell_type": "code",
   "execution_count": 34,
   "id": "3735b437-2ca7-4a8f-adf2-7f75d632e5a7",
   "metadata": {},
   "outputs": [],
   "source": [
    "movies['tags'] = movies['tagline'] + movies['keywords'] + movies['overview'] + movies['genres'] + movies['dir_cast']\n",
    "movies['tags'] = movies['tags'].apply(lambda x: \" \".join(x))"
   ]
  },
  {
   "cell_type": "code",
   "execution_count": 35,
   "id": "0751949e-da47-4dab-aabe-dfb3051d6938",
   "metadata": {},
   "outputs": [],
   "source": [
    "movies = movies.drop(columns=['overview','genres','keywords','dir_cast','tagline'])"
   ]
  },
  {
   "cell_type": "code",
   "execution_count": 36,
   "id": "eb59ccc0-6e61-4676-bff9-8debef6a8920",
   "metadata": {},
   "outputs": [
    {
     "data": {
      "text/html": [
       "<div>\n",
       "<style scoped>\n",
       "    .dataframe tbody tr th:only-of-type {\n",
       "        vertical-align: middle;\n",
       "    }\n",
       "\n",
       "    .dataframe tbody tr th {\n",
       "        vertical-align: top;\n",
       "    }\n",
       "\n",
       "    .dataframe thead th {\n",
       "        text-align: right;\n",
       "    }\n",
       "</style>\n",
       "<table border=\"1\" class=\"dataframe\">\n",
       "  <thead>\n",
       "    <tr style=\"text-align: right;\">\n",
       "      <th></th>\n",
       "      <th>id</th>\n",
       "      <th>imdb_id</th>\n",
       "      <th>popularity</th>\n",
       "      <th>original_title</th>\n",
       "      <th>runtime</th>\n",
       "      <th>release_date</th>\n",
       "      <th>vote_count</th>\n",
       "      <th>vote_average</th>\n",
       "      <th>release_year</th>\n",
       "      <th>tags</th>\n",
       "    </tr>\n",
       "  </thead>\n",
       "  <tbody>\n",
       "    <tr>\n",
       "      <th>0</th>\n",
       "      <td>135397</td>\n",
       "      <td>tt0369610</td>\n",
       "      <td>32.985763</td>\n",
       "      <td>Jurassic World</td>\n",
       "      <td>124</td>\n",
       "      <td>6/9/15</td>\n",
       "      <td>5562</td>\n",
       "      <td>6.5</td>\n",
       "      <td>2015</td>\n",
       "      <td>The park is open. monster dna tyrannosaurusrex...</td>\n",
       "    </tr>\n",
       "    <tr>\n",
       "      <th>1</th>\n",
       "      <td>76341</td>\n",
       "      <td>tt1392190</td>\n",
       "      <td>28.419936</td>\n",
       "      <td>Mad Max: Fury Road</td>\n",
       "      <td>120</td>\n",
       "      <td>5/13/15</td>\n",
       "      <td>6185</td>\n",
       "      <td>7.1</td>\n",
       "      <td>2015</td>\n",
       "      <td>What a Lovely Day. future chase post-apocalypt...</td>\n",
       "    </tr>\n",
       "  </tbody>\n",
       "</table>\n",
       "</div>"
      ],
      "text/plain": [
       "       id    imdb_id  popularity      original_title  runtime release_date  \\\n",
       "0  135397  tt0369610   32.985763      Jurassic World      124       6/9/15   \n",
       "1   76341  tt1392190   28.419936  Mad Max: Fury Road      120      5/13/15   \n",
       "\n",
       "   vote_count  vote_average  release_year  \\\n",
       "0        5562           6.5          2015   \n",
       "1        6185           7.1          2015   \n",
       "\n",
       "                                                tags  \n",
       "0  The park is open. monster dna tyrannosaurusrex...  \n",
       "1  What a Lovely Day. future chase post-apocalypt...  "
      ]
     },
     "execution_count": 36,
     "metadata": {},
     "output_type": "execute_result"
    }
   ],
   "source": [
    "movies.head(2)"
   ]
  },
  {
   "cell_type": "markdown",
   "id": "549dc61a-6199-4550-a128-9c8b0b2cfbc1",
   "metadata": {},
   "source": [
    "##### Make a column with lowercase titles without special characters"
   ]
  },
  {
   "cell_type": "code",
   "execution_count": 38,
   "id": "03929770-03e0-45af-8b6f-25a875107435",
   "metadata": {},
   "outputs": [],
   "source": [
    "import re\n",
    "def clean_string(text):\n",
    "    text = text.lower()\n",
    "    # Remove special characters, keeping only letters, numbers, and spaces\n",
    "    text = re.sub(r'[^a-z0-9\\s]', '', text)\n",
    "    return text"
   ]
  },
  {
   "cell_type": "code",
   "execution_count": 39,
   "id": "c3861442-568f-4132-97fd-195fd788c896",
   "metadata": {},
   "outputs": [],
   "source": [
    "movies['title_clean'] = movies['original_title'].apply(clean_string)"
   ]
  },
  {
   "cell_type": "code",
   "execution_count": 40,
   "id": "2a48c990-0211-4687-bdb2-3cd4289d3889",
   "metadata": {},
   "outputs": [
    {
     "data": {
      "text/html": [
       "<div>\n",
       "<style scoped>\n",
       "    .dataframe tbody tr th:only-of-type {\n",
       "        vertical-align: middle;\n",
       "    }\n",
       "\n",
       "    .dataframe tbody tr th {\n",
       "        vertical-align: top;\n",
       "    }\n",
       "\n",
       "    .dataframe thead th {\n",
       "        text-align: right;\n",
       "    }\n",
       "</style>\n",
       "<table border=\"1\" class=\"dataframe\">\n",
       "  <thead>\n",
       "    <tr style=\"text-align: right;\">\n",
       "      <th></th>\n",
       "      <th>id</th>\n",
       "      <th>imdb_id</th>\n",
       "      <th>popularity</th>\n",
       "      <th>original_title</th>\n",
       "      <th>runtime</th>\n",
       "      <th>release_date</th>\n",
       "      <th>vote_count</th>\n",
       "      <th>vote_average</th>\n",
       "      <th>release_year</th>\n",
       "      <th>tags</th>\n",
       "      <th>title_clean</th>\n",
       "    </tr>\n",
       "  </thead>\n",
       "  <tbody>\n",
       "    <tr>\n",
       "      <th>0</th>\n",
       "      <td>135397</td>\n",
       "      <td>tt0369610</td>\n",
       "      <td>32.985763</td>\n",
       "      <td>Jurassic World</td>\n",
       "      <td>124</td>\n",
       "      <td>6/9/15</td>\n",
       "      <td>5562</td>\n",
       "      <td>6.5</td>\n",
       "      <td>2015</td>\n",
       "      <td>The park is open. monster dna tyrannosaurusrex...</td>\n",
       "      <td>jurassic world</td>\n",
       "    </tr>\n",
       "    <tr>\n",
       "      <th>1</th>\n",
       "      <td>76341</td>\n",
       "      <td>tt1392190</td>\n",
       "      <td>28.419936</td>\n",
       "      <td>Mad Max: Fury Road</td>\n",
       "      <td>120</td>\n",
       "      <td>5/13/15</td>\n",
       "      <td>6185</td>\n",
       "      <td>7.1</td>\n",
       "      <td>2015</td>\n",
       "      <td>What a Lovely Day. future chase post-apocalypt...</td>\n",
       "      <td>mad max fury road</td>\n",
       "    </tr>\n",
       "  </tbody>\n",
       "</table>\n",
       "</div>"
      ],
      "text/plain": [
       "       id    imdb_id  popularity      original_title  runtime release_date  \\\n",
       "0  135397  tt0369610   32.985763      Jurassic World      124       6/9/15   \n",
       "1   76341  tt1392190   28.419936  Mad Max: Fury Road      120      5/13/15   \n",
       "\n",
       "   vote_count  vote_average  release_year  \\\n",
       "0        5562           6.5          2015   \n",
       "1        6185           7.1          2015   \n",
       "\n",
       "                                                tags        title_clean  \n",
       "0  The park is open. monster dna tyrannosaurusrex...     jurassic world  \n",
       "1  What a Lovely Day. future chase post-apocalypt...  mad max fury road  "
      ]
     },
     "execution_count": 40,
     "metadata": {},
     "output_type": "execute_result"
    }
   ],
   "source": [
    "movies.head(2)"
   ]
  },
  {
   "cell_type": "markdown",
   "id": "dc410759-303a-4daa-b371-f1c4d0cdb660",
   "metadata": {},
   "source": [
    "##### edit the tags, update the words to the stem word (e.g.: <font color='brown'>_lov_</font> is the stem word for __love, loved, loving__)"
   ]
  },
  {
   "cell_type": "code",
   "execution_count": 42,
   "id": "6ecfb124-611f-456c-b7b8-ea7ba11e42f8",
   "metadata": {},
   "outputs": [],
   "source": [
    "import nltk\n",
    "from nltk.stem import PorterStemmer\n",
    "ps = PorterStemmer()"
   ]
  },
  {
   "cell_type": "code",
   "execution_count": 43,
   "id": "3808701d-f0d9-4cfe-9633-eb1b9f1198ec",
   "metadata": {},
   "outputs": [],
   "source": [
    "def getStems(text):\n",
    "    st=[]\n",
    "    for i in text.split():\n",
    "        st.append(ps.stem(i))      \n",
    "    return(\" \".join(st))"
   ]
  },
  {
   "cell_type": "code",
   "execution_count": 44,
   "id": "6d725f75-c7d8-4d81-ba91-7b2436d5b306",
   "metadata": {},
   "outputs": [],
   "source": [
    "movies['tags'] = movies['tags'].apply(getStems)"
   ]
  },
  {
   "cell_type": "code",
   "execution_count": 45,
   "id": "a2dda91d-d2f1-4a8f-a118-cf2ac74d4ec3",
   "metadata": {},
   "outputs": [
    {
     "data": {
      "text/plain": [
       "\"the park is open. monster dna tyrannosaurusrex velociraptor island twenty-two year after the event of jurass park, isla nublar now featur a fulli function dinosaur theme park, jurass world, as origin envis by john hammond. action adventur scienc fiction thriller colintrevorrow chrispratt brycedallashoward irrfankhan vincentd'onofrio nickrobinson\""
      ]
     },
     "execution_count": 45,
     "metadata": {},
     "output_type": "execute_result"
    }
   ],
   "source": [
    "movies.iloc[0]['tags']"
   ]
  },
  {
   "cell_type": "markdown",
   "id": "dc2f085c-2754-460f-b0a1-910c3ae8d940",
   "metadata": {},
   "source": [
    "##### remove stop words from tags"
   ]
  },
  {
   "cell_type": "code",
   "execution_count": 47,
   "id": "be1faa3d-27d0-4a7e-864f-8f5432efd53b",
   "metadata": {},
   "outputs": [],
   "source": [
    "from sklearn.feature_extraction.text import CountVectorizer\n",
    "cv = CountVectorizer(max_features=5000, stop_words='english')  #to remove the words like the, is, in, a, on etc.\n",
    "vector = cv.fit_transform(movies['tags']).toarray()"
   ]
  },
  {
   "cell_type": "code",
   "execution_count": 48,
   "id": "c62385b0-22dd-4045-ad00-b8276aeea00b",
   "metadata": {},
   "outputs": [
    {
     "data": {
      "text/plain": [
       "(10865, 5000)"
      ]
     },
     "execution_count": 48,
     "metadata": {},
     "output_type": "execute_result"
    }
   ],
   "source": [
    "vector.shape"
   ]
  },
  {
   "cell_type": "markdown",
   "id": "7b5fd23a-9738-4c75-86b9-d4c77299382c",
   "metadata": {},
   "source": [
    "### Calculate Ratings according to IMDB Formula"
   ]
  },
  {
   "cell_type": "markdown",
   "id": "90b8696e-3f61-49f2-b5dd-754f6e555c9a",
   "metadata": {},
   "source": [
    "W=(R*v+C*m)/(v+m)\n",
    "where:\n",
    "\n",
    "    W is the weighted rating;\n",
    "    R is the mean rating for the movie, from 1 to 10;\n",
    "    v is the number of votes for the movie;\n",
    "    m is the minimum votes required to be listed in the Top 250 (25,000 as of 2013)\n",
    "    C is the mean vote across the whole report (7.0 as of 2013)."
   ]
  },
  {
   "cell_type": "code",
   "execution_count": 51,
   "id": "4dd15fa4-9ee5-487e-89e6-401dcb9e0045",
   "metadata": {},
   "outputs": [],
   "source": [
    "C=7.0\n",
    "m=25000\n",
    "movies['rating'] = (movies[\"vote_average\"]*movies[\"vote_count\"]+C*m)/(movies[\"vote_count\"]+m)"
   ]
  },
  {
   "cell_type": "code",
   "execution_count": 52,
   "id": "c5d69682-366e-490d-a241-a5fbe23282ae",
   "metadata": {},
   "outputs": [
    {
     "data": {
      "text/html": [
       "<div>\n",
       "<style scoped>\n",
       "    .dataframe tbody tr th:only-of-type {\n",
       "        vertical-align: middle;\n",
       "    }\n",
       "\n",
       "    .dataframe tbody tr th {\n",
       "        vertical-align: top;\n",
       "    }\n",
       "\n",
       "    .dataframe thead th {\n",
       "        text-align: right;\n",
       "    }\n",
       "</style>\n",
       "<table border=\"1\" class=\"dataframe\">\n",
       "  <thead>\n",
       "    <tr style=\"text-align: right;\">\n",
       "      <th></th>\n",
       "      <th>id</th>\n",
       "      <th>imdb_id</th>\n",
       "      <th>popularity</th>\n",
       "      <th>original_title</th>\n",
       "      <th>runtime</th>\n",
       "      <th>release_date</th>\n",
       "      <th>vote_count</th>\n",
       "      <th>vote_average</th>\n",
       "      <th>release_year</th>\n",
       "      <th>tags</th>\n",
       "      <th>title_clean</th>\n",
       "      <th>rating</th>\n",
       "    </tr>\n",
       "  </thead>\n",
       "  <tbody>\n",
       "    <tr>\n",
       "      <th>0</th>\n",
       "      <td>135397</td>\n",
       "      <td>tt0369610</td>\n",
       "      <td>32.985763</td>\n",
       "      <td>Jurassic World</td>\n",
       "      <td>124</td>\n",
       "      <td>6/9/15</td>\n",
       "      <td>5562</td>\n",
       "      <td>6.5</td>\n",
       "      <td>2015</td>\n",
       "      <td>the park is open. monster dna tyrannosaurusrex...</td>\n",
       "      <td>jurassic world</td>\n",
       "      <td>6.909005</td>\n",
       "    </tr>\n",
       "    <tr>\n",
       "      <th>1</th>\n",
       "      <td>76341</td>\n",
       "      <td>tt1392190</td>\n",
       "      <td>28.419936</td>\n",
       "      <td>Mad Max: Fury Road</td>\n",
       "      <td>120</td>\n",
       "      <td>5/13/15</td>\n",
       "      <td>6185</td>\n",
       "      <td>7.1</td>\n",
       "      <td>2015</td>\n",
       "      <td>what a love day. futur chase post-apocalypt dy...</td>\n",
       "      <td>mad max fury road</td>\n",
       "      <td>7.019833</td>\n",
       "    </tr>\n",
       "  </tbody>\n",
       "</table>\n",
       "</div>"
      ],
      "text/plain": [
       "       id    imdb_id  popularity      original_title  runtime release_date  \\\n",
       "0  135397  tt0369610   32.985763      Jurassic World      124       6/9/15   \n",
       "1   76341  tt1392190   28.419936  Mad Max: Fury Road      120      5/13/15   \n",
       "\n",
       "   vote_count  vote_average  release_year  \\\n",
       "0        5562           6.5          2015   \n",
       "1        6185           7.1          2015   \n",
       "\n",
       "                                                tags        title_clean  \\\n",
       "0  the park is open. monster dna tyrannosaurusrex...     jurassic world   \n",
       "1  what a love day. futur chase post-apocalypt dy...  mad max fury road   \n",
       "\n",
       "     rating  \n",
       "0  6.909005  \n",
       "1  7.019833  "
      ]
     },
     "execution_count": 52,
     "metadata": {},
     "output_type": "execute_result"
    }
   ],
   "source": [
    "movies.head(2)"
   ]
  },
  {
   "cell_type": "code",
   "execution_count": 53,
   "id": "7faeba5b-0600-4222-8362-b161254c4c79",
   "metadata": {},
   "outputs": [
    {
     "data": {
      "text/html": [
       "<div>\n",
       "<style scoped>\n",
       "    .dataframe tbody tr th:only-of-type {\n",
       "        vertical-align: middle;\n",
       "    }\n",
       "\n",
       "    .dataframe tbody tr th {\n",
       "        vertical-align: top;\n",
       "    }\n",
       "\n",
       "    .dataframe thead th {\n",
       "        text-align: right;\n",
       "    }\n",
       "</style>\n",
       "<table border=\"1\" class=\"dataframe\">\n",
       "  <thead>\n",
       "    <tr style=\"text-align: right;\">\n",
       "      <th></th>\n",
       "      <th>id</th>\n",
       "      <th>imdb_id</th>\n",
       "      <th>popularity</th>\n",
       "      <th>original_title</th>\n",
       "      <th>runtime</th>\n",
       "      <th>release_date</th>\n",
       "      <th>release_year</th>\n",
       "      <th>tags</th>\n",
       "      <th>title_clean</th>\n",
       "      <th>rating</th>\n",
       "    </tr>\n",
       "  </thead>\n",
       "  <tbody>\n",
       "    <tr>\n",
       "      <th>0</th>\n",
       "      <td>135397</td>\n",
       "      <td>tt0369610</td>\n",
       "      <td>32.985763</td>\n",
       "      <td>Jurassic World</td>\n",
       "      <td>124</td>\n",
       "      <td>6/9/15</td>\n",
       "      <td>2015</td>\n",
       "      <td>the park is open. monster dna tyrannosaurusrex...</td>\n",
       "      <td>jurassic world</td>\n",
       "      <td>6.909005</td>\n",
       "    </tr>\n",
       "    <tr>\n",
       "      <th>1</th>\n",
       "      <td>76341</td>\n",
       "      <td>tt1392190</td>\n",
       "      <td>28.419936</td>\n",
       "      <td>Mad Max: Fury Road</td>\n",
       "      <td>120</td>\n",
       "      <td>5/13/15</td>\n",
       "      <td>2015</td>\n",
       "      <td>what a love day. futur chase post-apocalypt dy...</td>\n",
       "      <td>mad max fury road</td>\n",
       "      <td>7.019833</td>\n",
       "    </tr>\n",
       "    <tr>\n",
       "      <th>2</th>\n",
       "      <td>262500</td>\n",
       "      <td>tt2908446</td>\n",
       "      <td>13.112507</td>\n",
       "      <td>Insurgent</td>\n",
       "      <td>119</td>\n",
       "      <td>3/18/15</td>\n",
       "      <td>2015</td>\n",
       "      <td>one choic can destroy you basedonnovel revolut...</td>\n",
       "      <td>insurgent</td>\n",
       "      <td>6.936827</td>\n",
       "    </tr>\n",
       "    <tr>\n",
       "      <th>3</th>\n",
       "      <td>140607</td>\n",
       "      <td>tt2488496</td>\n",
       "      <td>11.173104</td>\n",
       "      <td>Star Wars: The Force Awakens</td>\n",
       "      <td>136</td>\n",
       "      <td>12/15/15</td>\n",
       "      <td>2015</td>\n",
       "      <td>everi gener ha a story. android spaceship jedi...</td>\n",
       "      <td>star wars the force awakens</td>\n",
       "      <td>7.087350</td>\n",
       "    </tr>\n",
       "    <tr>\n",
       "      <th>4</th>\n",
       "      <td>168259</td>\n",
       "      <td>tt2820852</td>\n",
       "      <td>9.335014</td>\n",
       "      <td>Furious 7</td>\n",
       "      <td>137</td>\n",
       "      <td>4/1/15</td>\n",
       "      <td>2015</td>\n",
       "      <td>vengeanc hit home carrac speed reveng suspens ...</td>\n",
       "      <td>furious 7</td>\n",
       "      <td>7.031635</td>\n",
       "    </tr>\n",
       "    <tr>\n",
       "      <th>...</th>\n",
       "      <td>...</td>\n",
       "      <td>...</td>\n",
       "      <td>...</td>\n",
       "      <td>...</td>\n",
       "      <td>...</td>\n",
       "      <td>...</td>\n",
       "      <td>...</td>\n",
       "      <td>...</td>\n",
       "      <td>...</td>\n",
       "      <td>...</td>\n",
       "    </tr>\n",
       "    <tr>\n",
       "      <th>10861</th>\n",
       "      <td>21</td>\n",
       "      <td>tt0060371</td>\n",
       "      <td>0.080598</td>\n",
       "      <td>The Endless Summer</td>\n",
       "      <td>95</td>\n",
       "      <td>6/15/66</td>\n",
       "      <td>1966</td>\n",
       "      <td>surfer surfboard surf the endless summer, by b...</td>\n",
       "      <td>the endless summer</td>\n",
       "      <td>7.000176</td>\n",
       "    </tr>\n",
       "    <tr>\n",
       "      <th>10862</th>\n",
       "      <td>20379</td>\n",
       "      <td>tt0060472</td>\n",
       "      <td>0.065543</td>\n",
       "      <td>Grand Prix</td>\n",
       "      <td>176</td>\n",
       "      <td>12/21/66</td>\n",
       "      <td>1966</td>\n",
       "      <td>cinerama sweep you into a drama of speed and s...</td>\n",
       "      <td>grand prix</td>\n",
       "      <td>6.998961</td>\n",
       "    </tr>\n",
       "    <tr>\n",
       "      <th>10863</th>\n",
       "      <td>39768</td>\n",
       "      <td>tt0060161</td>\n",
       "      <td>0.065141</td>\n",
       "      <td>Beregis Avtomobilya</td>\n",
       "      <td>94</td>\n",
       "      <td>1/1/66</td>\n",
       "      <td>1966</td>\n",
       "      <td>car trolley stealingcar an insur agent who moo...</td>\n",
       "      <td>beregis avtomobilya</td>\n",
       "      <td>6.999780</td>\n",
       "    </tr>\n",
       "    <tr>\n",
       "      <th>10864</th>\n",
       "      <td>21449</td>\n",
       "      <td>tt0061177</td>\n",
       "      <td>0.064317</td>\n",
       "      <td>What's Up, Tiger Lily?</td>\n",
       "      <td>80</td>\n",
       "      <td>11/2/66</td>\n",
       "      <td>1966</td>\n",
       "      <td>woodi allen strike back! spoof in comic woodi ...</td>\n",
       "      <td>whats up tiger lily</td>\n",
       "      <td>6.998593</td>\n",
       "    </tr>\n",
       "    <tr>\n",
       "      <th>10865</th>\n",
       "      <td>22293</td>\n",
       "      <td>tt0060666</td>\n",
       "      <td>0.035919</td>\n",
       "      <td>Manos: The Hands of Fate</td>\n",
       "      <td>74</td>\n",
       "      <td>11/15/66</td>\n",
       "      <td>1966</td>\n",
       "      <td>it' shocking! it' beyond your imagination! fir...</td>\n",
       "      <td>manos the hands of fate</td>\n",
       "      <td>6.996702</td>\n",
       "    </tr>\n",
       "  </tbody>\n",
       "</table>\n",
       "<p>10865 rows × 10 columns</p>\n",
       "</div>"
      ],
      "text/plain": [
       "           id    imdb_id  popularity                original_title  runtime  \\\n",
       "0      135397  tt0369610   32.985763                Jurassic World      124   \n",
       "1       76341  tt1392190   28.419936            Mad Max: Fury Road      120   \n",
       "2      262500  tt2908446   13.112507                     Insurgent      119   \n",
       "3      140607  tt2488496   11.173104  Star Wars: The Force Awakens      136   \n",
       "4      168259  tt2820852    9.335014                     Furious 7      137   \n",
       "...       ...        ...         ...                           ...      ...   \n",
       "10861      21  tt0060371    0.080598            The Endless Summer       95   \n",
       "10862   20379  tt0060472    0.065543                    Grand Prix      176   \n",
       "10863   39768  tt0060161    0.065141           Beregis Avtomobilya       94   \n",
       "10864   21449  tt0061177    0.064317        What's Up, Tiger Lily?       80   \n",
       "10865   22293  tt0060666    0.035919      Manos: The Hands of Fate       74   \n",
       "\n",
       "      release_date  release_year  \\\n",
       "0           6/9/15          2015   \n",
       "1          5/13/15          2015   \n",
       "2          3/18/15          2015   \n",
       "3         12/15/15          2015   \n",
       "4           4/1/15          2015   \n",
       "...            ...           ...   \n",
       "10861      6/15/66          1966   \n",
       "10862     12/21/66          1966   \n",
       "10863       1/1/66          1966   \n",
       "10864      11/2/66          1966   \n",
       "10865     11/15/66          1966   \n",
       "\n",
       "                                                    tags  \\\n",
       "0      the park is open. monster dna tyrannosaurusrex...   \n",
       "1      what a love day. futur chase post-apocalypt dy...   \n",
       "2      one choic can destroy you basedonnovel revolut...   \n",
       "3      everi gener ha a story. android spaceship jedi...   \n",
       "4      vengeanc hit home carrac speed reveng suspens ...   \n",
       "...                                                  ...   \n",
       "10861  surfer surfboard surf the endless summer, by b...   \n",
       "10862  cinerama sweep you into a drama of speed and s...   \n",
       "10863  car trolley stealingcar an insur agent who moo...   \n",
       "10864  woodi allen strike back! spoof in comic woodi ...   \n",
       "10865  it' shocking! it' beyond your imagination! fir...   \n",
       "\n",
       "                       title_clean    rating  \n",
       "0                   jurassic world  6.909005  \n",
       "1                mad max fury road  7.019833  \n",
       "2                        insurgent  6.936827  \n",
       "3      star wars the force awakens  7.087350  \n",
       "4                        furious 7  7.031635  \n",
       "...                            ...       ...  \n",
       "10861           the endless summer  7.000176  \n",
       "10862                   grand prix  6.998961  \n",
       "10863          beregis avtomobilya  6.999780  \n",
       "10864          whats up tiger lily  6.998593  \n",
       "10865      manos the hands of fate  6.996702  \n",
       "\n",
       "[10865 rows x 10 columns]"
      ]
     },
     "execution_count": 53,
     "metadata": {},
     "output_type": "execute_result"
    }
   ],
   "source": [
    "movies.drop([\"vote_count\", \"vote_average\"], axis=1)"
   ]
  },
  {
   "cell_type": "markdown",
   "id": "8c95f076-8eaa-4175-834f-9cb5181b03d8",
   "metadata": {},
   "source": [
    "## RECOMMENDATION ALGORITHM"
   ]
  },
  {
   "cell_type": "markdown",
   "id": "f910928d-52ac-48c0-9297-7b2b6c3b69ba",
   "metadata": {},
   "source": [
    "###### 13. finding similarity through cosine_similarity \n",
    "###### which will give us similarity between each and every movies,\n",
    "###### i.e. a square matrix"
   ]
  },
  {
   "cell_type": "code",
   "execution_count": 56,
   "id": "1e161e6c-3a71-4825-803d-0d6395221015",
   "metadata": {},
   "outputs": [],
   "source": [
    "from sklearn.metrics.pairwise import cosine_similarity\n",
    "smlr = cosine_similarity(vector)"
   ]
  },
  {
   "cell_type": "code",
   "execution_count": 57,
   "id": "ea01be4a-7116-4378-ba90-b00ccc41f836",
   "metadata": {},
   "outputs": [
    {
     "data": {
      "text/plain": [
       "(10865, 10865)"
      ]
     },
     "execution_count": 57,
     "metadata": {},
     "output_type": "execute_result"
    }
   ],
   "source": [
    "smlr.shape"
   ]
  },
  {
   "cell_type": "code",
   "execution_count": 58,
   "id": "52a5b7e8-0485-4c7e-ba53-cf14c6dd752c",
   "metadata": {},
   "outputs": [
    {
     "name": "stdout",
     "output_type": "stream",
     "text": [
      "[[1.         0.16820685 0.15488062 ... 0.         0.06189845 0.        ]\n",
      " [0.16820685 1.         0.14165765 ... 0.04003204 0.13209899 0.02360961]\n",
      " [0.15488062 0.14165765 1.         ... 0.         0.         0.        ]\n",
      " ...\n",
      " [0.         0.04003204 0.         ... 1.         0.02946278 0.03686049]\n",
      " [0.06189845 0.13209899 0.         ... 0.02946278 1.         0.        ]\n",
      " [0.         0.02360961 0.         ... 0.03686049 0.         1.        ]]\n"
     ]
    }
   ],
   "source": [
    "print(smlr)"
   ]
  },
  {
   "cell_type": "markdown",
   "id": "46ff7d1c-72c4-4ac5-b031-86198cffac70",
   "metadata": {},
   "source": [
    "#### RECOMMEND FUNCTION"
   ]
  },
  {
   "cell_type": "code",
   "execution_count": 60,
   "id": "22212e37-33b8-4362-8d04-5a7cb28c7025",
   "metadata": {},
   "outputs": [],
   "source": [
    "def recommend(movie_name, n=5):\n",
    "    cleanedMovieName = clean_string(movie_name)\n",
    "    idx = movies[movies['title_clean'] == cleanedMovieName].index[0]  #evaluate index where the given movie lies\n",
    "    movieidx_smlr = [(i,smlr[idx][i]) for i in range(len(smlr[idx]))]  #list of tuple: (another movie index, similarity)\n",
    "    sortSmlr = sorted(movieidx_smlr, reverse = True, key = lambda x:x[1])  #sort the list according to similarity, in descending order\n",
    "\n",
    "    if n>len(sortSmlr)-1: n=len(sortSmlr)-2\n",
    "    for i in sortSmlr[1:n+1]:                                #sortSmlr[0] will contain itself and it's value will be highest\n",
    "        print(movies.iloc[i[0]]['original_title'])"
   ]
  },
  {
   "cell_type": "code",
   "execution_count": 61,
   "id": "91f776e3-41fb-412a-9230-713430ce6ed6",
   "metadata": {},
   "outputs": [
    {
     "name": "stdout",
     "output_type": "stream",
     "text": [
      "Steel Dawn\n",
      "Mad Max\n",
      "Kites\n",
      "Turbo Kid\n",
      "The Maze Runner\n"
     ]
    }
   ],
   "source": [
    "recommend(\"Mad Max: Fury Road\")"
   ]
  },
  {
   "cell_type": "markdown",
   "id": "2999d1ac-313c-4933-a60a-e968b52f81ab",
   "metadata": {},
   "source": [
    "##### Serializing and saving the object to file "
   ]
  },
  {
   "cell_type": "code",
   "execution_count": 63,
   "id": "6ba747ed-9294-4498-87ac-988d127d7eb5",
   "metadata": {},
   "outputs": [],
   "source": [
    "import pickle"
   ]
  },
  {
   "cell_type": "code",
   "execution_count": 64,
   "id": "728a1d19-ec87-45b7-963f-48dba83ca29f",
   "metadata": {},
   "outputs": [],
   "source": [
    "pickle.dump(movies,open('movie_list.pkl','wb'))\n",
    "pickle.dump(smlr,open('similarity.pkl','wb'))"
   ]
  },
  {
   "cell_type": "code",
   "execution_count": null,
   "id": "53b9e15f-32a4-4547-bbf7-f4990603bd46",
   "metadata": {},
   "outputs": [],
   "source": []
  }
 ],
 "metadata": {
  "kernelspec": {
   "display_name": "Python 3 (ipykernel)",
   "language": "python",
   "name": "python3"
  },
  "language_info": {
   "codemirror_mode": {
    "name": "ipython",
    "version": 3
   },
   "file_extension": ".py",
   "mimetype": "text/x-python",
   "name": "python",
   "nbconvert_exporter": "python",
   "pygments_lexer": "ipython3",
   "version": "3.12.4"
  }
 },
 "nbformat": 4,
 "nbformat_minor": 5
}
